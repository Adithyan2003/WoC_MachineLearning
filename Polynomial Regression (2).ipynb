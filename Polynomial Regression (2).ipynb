{
 "cells": [
  {
   "cell_type": "code",
   "execution_count": 49,
   "id": "e7751aa6",
   "metadata": {},
   "outputs": [],
   "source": [
    "import matplotlib.pyplot as plt\n",
    "import numpy as np\n",
    "import pandas as pd\n"
   ]
  },
  {
   "cell_type": "code",
   "execution_count": 50,
   "id": "c0a127fa",
   "metadata": {},
   "outputs": [
    {
     "data": {
      "text/html": [
       "<div>\n",
       "<style scoped>\n",
       "    .dataframe tbody tr th:only-of-type {\n",
       "        vertical-align: middle;\n",
       "    }\n",
       "\n",
       "    .dataframe tbody tr th {\n",
       "        vertical-align: top;\n",
       "    }\n",
       "\n",
       "    .dataframe thead th {\n",
       "        text-align: right;\n",
       "    }\n",
       "</style>\n",
       "<table border=\"1\" class=\"dataframe\">\n",
       "  <thead>\n",
       "    <tr style=\"text-align: right;\">\n",
       "      <th></th>\n",
       "      <th>Unnamed: 0</th>\n",
       "      <th>X</th>\n",
       "      <th>Y</th>\n",
       "      <th>Z</th>\n",
       "      <th>label</th>\n",
       "    </tr>\n",
       "  </thead>\n",
       "  <tbody>\n",
       "    <tr>\n",
       "      <th>0</th>\n",
       "      <td>0.0000</td>\n",
       "      <td>0.966123</td>\n",
       "      <td>0.520763</td>\n",
       "      <td>0.799372</td>\n",
       "      <td>0.348891</td>\n",
       "    </tr>\n",
       "    <tr>\n",
       "      <th>1</th>\n",
       "      <td>0.0001</td>\n",
       "      <td>0.640607</td>\n",
       "      <td>0.807332</td>\n",
       "      <td>0.821102</td>\n",
       "      <td>0.361912</td>\n",
       "    </tr>\n",
       "    <tr>\n",
       "      <th>2</th>\n",
       "      <td>0.0002</td>\n",
       "      <td>0.366511</td>\n",
       "      <td>0.888973</td>\n",
       "      <td>0.153398</td>\n",
       "      <td>0.416444</td>\n",
       "    </tr>\n",
       "    <tr>\n",
       "      <th>3</th>\n",
       "      <td>0.0003</td>\n",
       "      <td>0.150386</td>\n",
       "      <td>0.039686</td>\n",
       "      <td>0.542708</td>\n",
       "      <td>0.146510</td>\n",
       "    </tr>\n",
       "    <tr>\n",
       "      <th>4</th>\n",
       "      <td>0.0004</td>\n",
       "      <td>0.578721</td>\n",
       "      <td>0.389405</td>\n",
       "      <td>0.801596</td>\n",
       "      <td>0.426142</td>\n",
       "    </tr>\n",
       "  </tbody>\n",
       "</table>\n",
       "</div>"
      ],
      "text/plain": [
       "   Unnamed: 0         X         Y         Z     label\n",
       "0      0.0000  0.966123  0.520763  0.799372  0.348891\n",
       "1      0.0001  0.640607  0.807332  0.821102  0.361912\n",
       "2      0.0002  0.366511  0.888973  0.153398  0.416444\n",
       "3      0.0003  0.150386  0.039686  0.542708  0.146510\n",
       "4      0.0004  0.578721  0.389405  0.801596  0.426142"
      ]
     },
     "execution_count": 50,
     "metadata": {},
     "output_type": "execute_result"
    }
   ],
   "source": [
    "test = pd.read_csv(\"C:/Users/adith/Desktop/Datasets/Polynomial_test.csv\")\n",
    "train = pd.read_csv(\"C:/Users/adith/Desktop/Datasets/Polynomial_train.csv\")\n",
    "\n",
    "train = (train - np.min(train)) / (np.max(train) - np.min(train))\n",
    "test = (test - np.min(test)) / (np.max(test) - np.min(test))\n",
    "test.head()\n"
   ]
  },
  {
   "cell_type": "code",
   "execution_count": 51,
   "id": "257d68de",
   "metadata": {},
   "outputs": [
    {
     "data": {
      "text/html": [
       "<div>\n",
       "<style scoped>\n",
       "    .dataframe tbody tr th:only-of-type {\n",
       "        vertical-align: middle;\n",
       "    }\n",
       "\n",
       "    .dataframe tbody tr th {\n",
       "        vertical-align: top;\n",
       "    }\n",
       "\n",
       "    .dataframe thead th {\n",
       "        text-align: right;\n",
       "    }\n",
       "</style>\n",
       "<table border=\"1\" class=\"dataframe\">\n",
       "  <thead>\n",
       "    <tr style=\"text-align: right;\">\n",
       "      <th></th>\n",
       "      <th>X</th>\n",
       "      <th>Y</th>\n",
       "      <th>Z</th>\n",
       "      <th>label</th>\n",
       "    </tr>\n",
       "  </thead>\n",
       "  <tbody>\n",
       "    <tr>\n",
       "      <th>0</th>\n",
       "      <td>0.231825</td>\n",
       "      <td>0.006202</td>\n",
       "      <td>0.210584</td>\n",
       "      <td>0.461451</td>\n",
       "    </tr>\n",
       "    <tr>\n",
       "      <th>1</th>\n",
       "      <td>0.188043</td>\n",
       "      <td>0.282876</td>\n",
       "      <td>0.065016</td>\n",
       "      <td>0.442035</td>\n",
       "    </tr>\n",
       "    <tr>\n",
       "      <th>2</th>\n",
       "      <td>0.128716</td>\n",
       "      <td>0.370154</td>\n",
       "      <td>0.409481</td>\n",
       "      <td>0.391436</td>\n",
       "    </tr>\n",
       "    <tr>\n",
       "      <th>3</th>\n",
       "      <td>0.027649</td>\n",
       "      <td>0.366191</td>\n",
       "      <td>0.695569</td>\n",
       "      <td>0.426798</td>\n",
       "    </tr>\n",
       "    <tr>\n",
       "      <th>4</th>\n",
       "      <td>0.334706</td>\n",
       "      <td>0.469617</td>\n",
       "      <td>0.835697</td>\n",
       "      <td>0.387717</td>\n",
       "    </tr>\n",
       "  </tbody>\n",
       "</table>\n",
       "</div>"
      ],
      "text/plain": [
       "          X         Y         Z     label\n",
       "0  0.231825  0.006202  0.210584  0.461451\n",
       "1  0.188043  0.282876  0.065016  0.442035\n",
       "2  0.128716  0.370154  0.409481  0.391436\n",
       "3  0.027649  0.366191  0.695569  0.426798\n",
       "4  0.334706  0.469617  0.835697  0.387717"
      ]
     },
     "execution_count": 51,
     "metadata": {},
     "output_type": "execute_result"
    }
   ],
   "source": [
    "train = train.drop([\"Unnamed: 0\"], axis = 1)\n",
    "test = test.drop([\"Unnamed: 0\"], axis = 1)\n",
    "train.head()"
   ]
  },
  {
   "cell_type": "code",
   "execution_count": 53,
   "id": "5bac2373",
   "metadata": {},
   "outputs": [
    {
     "name": "stdout",
     "output_type": "stream",
     "text": [
      "[[0.2318255  0.00620153 0.2105835 ]\n",
      " [0.18804274 0.28287559 0.06501568]\n",
      " [0.1287159  0.3701538  0.40948095]\n",
      " ...\n",
      " [0.36192257 0.32432986 0.47638034]\n",
      " [0.29530506 0.65766616 0.26104849]\n",
      " [0.23138369 0.8550764  0.3404406 ]]\n",
      "[[0.46145137]\n",
      " [0.44203495]\n",
      " [0.39143578]\n",
      " ...\n",
      " [0.50172725]\n",
      " [0.37895592]\n",
      " [0.34741488]]\n",
      "(50000, 3)\n",
      "(50000, 1)\n",
      "(10000, 3)\n",
      "(10000, 1)\n"
     ]
    }
   ],
   "source": [
    "X = train.values[:, :-1]\n",
    "Y = train.values[:, -1].reshape(train.values.shape[0], 1)\n",
    "\n",
    "X_test = test.values[:, :-1]\n",
    "Y_test = test.values[:, -1].reshape(test.values.shape[0], 1)\n",
    "\n",
    "print(X)\n",
    "print(Y)\n",
    "print(X.shape)\n",
    "print(Y.shape)\n",
    "print(X_test.shape)\n",
    "print(Y_test.shape)"
   ]
  },
  {
   "cell_type": "code",
   "execution_count": 39,
   "id": "d1674e96",
   "metadata": {},
   "outputs": [
    {
     "name": "stdout",
     "output_type": "stream",
     "text": [
      "[[1.         0.2318255  0.00620153 0.2105835 ]\n",
      " [1.         0.18804274 0.28287559 0.06501568]\n",
      " [1.         0.1287159  0.3701538  0.40948095]\n",
      " ...\n",
      " [1.         0.36192257 0.32432986 0.47638034]\n",
      " [1.         0.29530506 0.65766616 0.26104849]\n",
      " [1.         0.23138369 0.8550764  0.3404406 ]]\n"
     ]
    }
   ],
   "source": [
    "X = np.vstack((np.ones((X.shape[0], )), X.T)).T\n",
    "X_test = np.vstack((np.ones((X_test.shape[0], )), X_test.T)).T\n",
    "print(X)"
   ]
  },
  {
   "cell_type": "code",
   "execution_count": 44,
   "id": "faa5b50b",
   "metadata": {},
   "outputs": [],
   "source": [
    "def model(X, Y, learning_rate, no_of_iterations):\n",
    "    m_train = Y.size\n",
    "    theta = np.zeros((X.shape[1], 1))\n",
    "    cost_list = []\n",
    "    \n",
    "    for i in range(no_of_iterations):\n",
    "        y_pred = np.dot(X, theta) + np.dot(X**2, theta) + np.dot(X**3, theta)\n",
    "        cost = (1/(2*m_train))*np.sum(np.square(y_pred - Y))\n",
    "        \n",
    "        grad = (1/m_train)*np.dot(X.T, y_pred - Y)\n",
    "        theta -=learning_rate*grad\n",
    "        \n",
    "        cost_list.append(cost)\n",
    "        \n",
    "        if(i%(no_of_iterations/10) == 0):\n",
    "            print('Cost is :', cost)\n",
    "\n",
    "    return theta, cost_list"
   ]
  },
  {
   "cell_type": "code",
   "execution_count": 45,
   "id": "19532957",
   "metadata": {
    "scrolled": true
   },
   "outputs": [
    {
     "name": "stdout",
     "output_type": "stream",
     "text": [
      "Cost is : 0.10094464481451891\n",
      "Cost is : 0.009653889395262622\n",
      "Cost is : 0.009389725559477754\n",
      "Cost is : 0.009332635962552011\n",
      "Cost is : 0.009318033596067333\n",
      "Cost is : 0.009313237545174605\n",
      "Cost is : 0.009311152625563866\n",
      "Cost is : 0.009310028501579259\n",
      "Cost is : 0.009309340252595152\n",
      "Cost is : 0.009308888356866362\n"
     ]
    }
   ],
   "source": [
    "iteration = 1000\n",
    "lr = 0.05\n",
    "theta, cost_list = model(X, Y, learning_rate =lr ,no_of_iterations = iteration)"
   ]
  },
  {
   "cell_type": "code",
   "execution_count": 46,
   "id": "4bf73c12",
   "metadata": {},
   "outputs": [
    {
     "name": "stdout",
     "output_type": "stream",
     "text": [
      "Test error is: 10.298251802715699 %\n",
      "0.14066813470215275\n",
      "Test accuracy is : 89.7017481972843 %\n"
     ]
    }
   ],
   "source": [
    "y_pred = np.dot(X_test, theta) + np.dot(X_test**2, theta) + np.dot(X_test**3, theta)\n",
    "error = (1/X_test.shape[0])*np.sum(np.abs(y_pred - Y_test))\n",
    "rmse = np.sqrt(((y_pred-Y_test)**2).mean())\n",
    "print(\"Test error is:\", error*100,\"%\")\n",
    "print(rmse)\n",
    "print(\"Test accuracy is :\", (1-error)*100, \"%\")"
   ]
  },
  {
   "cell_type": "code",
   "execution_count": null,
   "id": "c9a0897c",
   "metadata": {},
   "outputs": [],
   "source": []
  }
 ],
 "metadata": {
  "kernelspec": {
   "display_name": "Python 3 (ipykernel)",
   "language": "python",
   "name": "python3"
  },
  "language_info": {
   "codemirror_mode": {
    "name": "ipython",
    "version": 3
   },
   "file_extension": ".py",
   "mimetype": "text/x-python",
   "name": "python",
   "nbconvert_exporter": "python",
   "pygments_lexer": "ipython3",
   "version": "3.9.7"
  }
 },
 "nbformat": 4,
 "nbformat_minor": 5
}
