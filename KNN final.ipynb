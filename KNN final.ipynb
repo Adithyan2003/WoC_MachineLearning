{
 "cells": [
  {
   "cell_type": "code",
   "execution_count": 1,
   "id": "074064ea",
   "metadata": {},
   "outputs": [],
   "source": [
    "import numpy as np \n",
    "import pandas as pd \n",
    "from matplotlib import pyplot as plt\n",
    "%matplotlib inline"
   ]
  },
  {
   "cell_type": "code",
   "execution_count": 2,
   "id": "bb72706d",
   "metadata": {},
   "outputs": [],
   "source": [
    "train_df = pd.read_csv('C:/Users/adith/Desktop/Datasets/emnist-letters-train.csv')\n",
    "test_df = pd.read_csv('C:/Users/adith/Desktop/Datasets/emnist-letters-test.csv')"
   ]
  },
  {
   "cell_type": "code",
   "execution_count": 3,
   "id": "7782101e",
   "metadata": {},
   "outputs": [],
   "source": [
    "y_train = train_df[\"23\"]"
   ]
  },
  {
   "cell_type": "code",
   "execution_count": 4,
   "id": "97bed956",
   "metadata": {},
   "outputs": [],
   "source": [
    "X_train = train_df.drop(train_df.columns[0], axis=1)"
   ]
  },
  {
   "cell_type": "code",
   "execution_count": 5,
   "id": "75d2020a",
   "metadata": {},
   "outputs": [],
   "source": [
    "y_test = test_df[\"1\"]"
   ]
  },
  {
   "cell_type": "code",
   "execution_count": 6,
   "id": "894d2776",
   "metadata": {},
   "outputs": [],
   "source": [
    "X_test = test_df.drop(test_df.columns[0], axis=1)"
   ]
  },
  {
   "cell_type": "code",
   "execution_count": 7,
   "id": "2cdc4a28",
   "metadata": {},
   "outputs": [
    {
     "data": {
      "text/plain": [
       "<matplotlib.image.AxesImage at 0x2059bd0f4f0>"
      ]
     },
     "execution_count": 7,
     "metadata": {},
     "output_type": "execute_result"
    },
    {
     "data": {
      "image/png": "[encoded data removed]",
      "text/plain": [
       "<Figure size 432x288 with 1 Axes>"
      ]
     },
     "metadata": {
      "needs_background": "light"
     },
     "output_type": "display_data"
    }
   ],
   "source": [
    "z = np.array(X_train).reshape(X_train.shape[0],28,28)\n",
    "plt.imshow(z[55,:,:],cmap='gray')"
   ]
  },
  {
   "cell_type": "code",
   "execution_count": 19,
   "id": "c60620ea",
   "metadata": {},
   "outputs": [],
   "source": [
    "\n",
    "#     def __init__(self, k):\n",
    "#         self.k = k\n",
    "#         self.eps = 1e-8\n",
    "\n",
    "def train(X, y):\n",
    "    X_train = X\n",
    "    y_train = y\n",
    "\n",
    "def predict(X_test, num_loops=0):\n",
    "    if num_loops == 0:\n",
    "        distances = compute_distance_vectorized(X_test,X_train)\n",
    "    return predict_labels(distances)\n",
    "\n",
    "def compute_distance_two_loops(X_test,X_train):\n",
    "    num_test = X_test.shape[0]\n",
    "    num_train = X_train.shape[0]\n",
    "    distances = np.zeros((num_test, num_train))\n",
    "\n",
    "    for i in range(num_test):\n",
    "        for j in range(num_train):\n",
    "            distances[i, j] = np.sqrt(1e-8 + np.sum((X_test[i, :] - X_train[j, :]) ** 2))\n",
    "\n",
    "    return distances\n",
    "\n",
    "def compute_distance_one_loop(X_test,X_train):\n",
    "\n",
    "    num_test = X_test.shape[0]\n",
    "    num_train = X_train.shape[0]\n",
    "    distances = np.zeros((num_test, num_train))\n",
    "\n",
    "    for i in range(num_test):\n",
    "        distances[i, :] = np.sqrt(1e-8 + np.sum((X_train - X_test[i, :]) ** 2, axis=1))\n",
    "\n",
    "    return distances\n",
    "\n",
    "def compute_distance_vectorized(X_test,X_train):\n",
    "\n",
    "    X_test_squared = np.sum(X_test ** 2, axis=1)\n",
    "    X_train_squared = np.sum(X_train ** 2, axis=1)\n",
    "    two_X_test_X_train = np.dot(X_test, X_train.T)\n",
    "\n",
    "    return np.sqrt(1e-8 + X_test_squared - 2 * two_X_test_X_train + X_train_squared.T)\n",
    "\n",
    "def predict_labels(distances,y_train,k):\n",
    "    num_test = distances.shape[0]\n",
    "    y_pred = np.zeros(num_test)\n",
    "\n",
    "    for i in range(num_test):\n",
    "        y_indices = np.argsort(distances[i, :])\n",
    "        k_closest_classes = y_train[y_indices[: k]].astype(int)\n",
    "        y_pred[i] = np.argmax(np.bincount(k_closest_classes))\n",
    "\n",
    "    return y_pred"
   ]
  },
  {
   "cell_type": "code",
   "execution_count": 20,
   "id": "ef4459c9",
   "metadata": {},
   "outputs": [],
   "source": [
    "# KNN = KNearestNeighbor(k=1)\n",
    "X = np.array(X_train)\n",
    "y = np.array(y_train)\n",
    "X_t = np.array(X_test)\n",
    "y_t = np.array(y_test)"
   ]
  },
  {
   "cell_type": "code",
   "execution_count": null,
   "id": "bb78e8ff",
   "metadata": {},
   "outputs": [],
   "source": [
    "train(X,y)\n",
    "y_pred = predict(X_t, num_loops=0)\n",
    "print(f\"Accuracy: {sum(y_pred == y_t) / y_t.shape[0]}\")"
   ]
  },
  {
   "cell_type": "code",
   "execution_count": null,
   "id": "4b711717",
   "metadata": {},
   "outputs": [],
   "source": []
  }
 ],
 "metadata": {
  "kernelspec": {
   "display_name": "Python 3 (ipykernel)",
   "language": "python",
   "name": "python3"
  },
  "language_info": {
   "codemirror_mode": {
    "name": "ipython",
    "version": 3
   },
   "file_extension": ".py",
   "mimetype": "text/x-python",
   "name": "python",
   "nbconvert_exporter": "python",
   "pygments_lexer": "ipython3",
   "version": "3.9.7"
  }
 },
 "nbformat": 4,
 "nbformat_minor": 5
}
