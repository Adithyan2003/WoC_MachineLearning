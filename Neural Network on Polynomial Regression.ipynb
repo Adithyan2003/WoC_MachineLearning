{
 "cells": [
  {
   "cell_type": "code",
   "execution_count": 1,
   "id": "897b21c7",
   "metadata": {},
   "outputs": [],
   "source": [
    "import matplotlib.pyplot as plt\n",
    "import numpy as np\n",
    "import pandas as pd"
   ]
  },
  {
   "cell_type": "code",
   "execution_count": 2,
   "id": "9739a845",
   "metadata": {},
   "outputs": [
    {
     "data": {
      "text/html": [
       "<div>\n",
       "<style scoped>\n",
       "    .dataframe tbody tr th:only-of-type {\n",
       "        vertical-align: middle;\n",
       "    }\n",
       "\n",
       "    .dataframe tbody tr th {\n",
       "        vertical-align: top;\n",
       "    }\n",
       "\n",
       "    .dataframe thead th {\n",
       "        text-align: right;\n",
       "    }\n",
       "</style>\n",
       "<table border=\"1\" class=\"dataframe\">\n",
       "  <thead>\n",
       "    <tr style=\"text-align: right;\">\n",
       "      <th></th>\n",
       "      <th>Unnamed: 0</th>\n",
       "      <th>X</th>\n",
       "      <th>Y</th>\n",
       "      <th>Z</th>\n",
       "      <th>label</th>\n",
       "    </tr>\n",
       "  </thead>\n",
       "  <tbody>\n",
       "    <tr>\n",
       "      <th>0</th>\n",
       "      <td>-1.731999</td>\n",
       "      <td>0.105753</td>\n",
       "      <td>-1.697386</td>\n",
       "      <td>-1.010452</td>\n",
       "      <td>0.244413</td>\n",
       "    </tr>\n",
       "    <tr>\n",
       "      <th>1</th>\n",
       "      <td>-1.731930</td>\n",
       "      <td>-0.242734</td>\n",
       "      <td>-0.643264</td>\n",
       "      <td>-1.515023</td>\n",
       "      <td>0.102123</td>\n",
       "    </tr>\n",
       "    <tr>\n",
       "      <th>2</th>\n",
       "      <td>-1.731860</td>\n",
       "      <td>-0.714943</td>\n",
       "      <td>-0.310736</td>\n",
       "      <td>-0.321029</td>\n",
       "      <td>-0.268685</td>\n",
       "    </tr>\n",
       "    <tr>\n",
       "      <th>3</th>\n",
       "      <td>-1.731791</td>\n",
       "      <td>-1.519383</td>\n",
       "      <td>-0.325833</td>\n",
       "      <td>0.670617</td>\n",
       "      <td>-0.009539</td>\n",
       "    </tr>\n",
       "    <tr>\n",
       "      <th>4</th>\n",
       "      <td>-1.731722</td>\n",
       "      <td>0.924624</td>\n",
       "      <td>0.068216</td>\n",
       "      <td>1.156332</td>\n",
       "      <td>-0.295934</td>\n",
       "    </tr>\n",
       "  </tbody>\n",
       "</table>\n",
       "</div>"
      ],
      "text/plain": [
       "   Unnamed: 0         X         Y         Z     label\n",
       "0   -1.731999  0.105753 -1.697386 -1.010452  0.244413\n",
       "1   -1.731930 -0.242734 -0.643264 -1.515023  0.102123\n",
       "2   -1.731860 -0.714943 -0.310736 -0.321029 -0.268685\n",
       "3   -1.731791 -1.519383 -0.325833  0.670617 -0.009539\n",
       "4   -1.731722  0.924624  0.068216  1.156332 -0.295934"
      ]
     },
     "execution_count": 2,
     "metadata": {},
     "output_type": "execute_result"
    }
   ],
   "source": [
    "test = pd.read_csv(\"C:/Users/adith/Desktop/Datasets/Polynomial_test.csv\")\n",
    "train = pd.read_csv(\"C:/Users/adith/Desktop/Datasets/Polynomial_train.csv\")\n",
    "x_train_scaled = (train - train.mean()) / (train.std()) \n",
    "x_test_scaled = (test - test.mean()) / (test.std())\n",
    "x_train_scaled.head()"
   ]
  },
  {
   "cell_type": "code",
   "execution_count": 3,
   "id": "ac580a70",
   "metadata": {},
   "outputs": [
    {
     "data": {
      "text/html": [
       "<div>\n",
       "<style scoped>\n",
       "    .dataframe tbody tr th:only-of-type {\n",
       "        vertical-align: middle;\n",
       "    }\n",
       "\n",
       "    .dataframe tbody tr th {\n",
       "        vertical-align: top;\n",
       "    }\n",
       "\n",
       "    .dataframe thead th {\n",
       "        text-align: right;\n",
       "    }\n",
       "</style>\n",
       "<table border=\"1\" class=\"dataframe\">\n",
       "  <thead>\n",
       "    <tr style=\"text-align: right;\">\n",
       "      <th></th>\n",
       "      <th>X</th>\n",
       "      <th>Y</th>\n",
       "      <th>Z</th>\n",
       "      <th>label</th>\n",
       "    </tr>\n",
       "  </thead>\n",
       "  <tbody>\n",
       "    <tr>\n",
       "      <th>0</th>\n",
       "      <td>0.105753</td>\n",
       "      <td>-1.697386</td>\n",
       "      <td>-1.010452</td>\n",
       "      <td>0.244413</td>\n",
       "    </tr>\n",
       "    <tr>\n",
       "      <th>1</th>\n",
       "      <td>-0.242734</td>\n",
       "      <td>-0.643264</td>\n",
       "      <td>-1.515023</td>\n",
       "      <td>0.102123</td>\n",
       "    </tr>\n",
       "    <tr>\n",
       "      <th>2</th>\n",
       "      <td>-0.714943</td>\n",
       "      <td>-0.310736</td>\n",
       "      <td>-0.321029</td>\n",
       "      <td>-0.268685</td>\n",
       "    </tr>\n",
       "    <tr>\n",
       "      <th>3</th>\n",
       "      <td>-1.519383</td>\n",
       "      <td>-0.325833</td>\n",
       "      <td>0.670617</td>\n",
       "      <td>-0.009539</td>\n",
       "    </tr>\n",
       "    <tr>\n",
       "      <th>4</th>\n",
       "      <td>0.924624</td>\n",
       "      <td>0.068216</td>\n",
       "      <td>1.156332</td>\n",
       "      <td>-0.295934</td>\n",
       "    </tr>\n",
       "  </tbody>\n",
       "</table>\n",
       "</div>"
      ],
      "text/plain": [
       "          X         Y         Z     label\n",
       "0  0.105753 -1.697386 -1.010452  0.244413\n",
       "1 -0.242734 -0.643264 -1.515023  0.102123\n",
       "2 -0.714943 -0.310736 -0.321029 -0.268685\n",
       "3 -1.519383 -0.325833  0.670617 -0.009539\n",
       "4  0.924624  0.068216  1.156332 -0.295934"
      ]
     },
     "execution_count": 3,
     "metadata": {},
     "output_type": "execute_result"
    }
   ],
   "source": [
    "x_train_scaled = x_train_scaled.drop([\"Unnamed: 0\"], axis = 1)\n",
    "x_test_scaled = x_test_scaled.drop([\"Unnamed: 0\"], axis = 1)\n",
    "x_train_scaled.head()"
   ]
  },
  {
   "cell_type": "code",
   "execution_count": 5,
   "id": "27b4692f",
   "metadata": {},
   "outputs": [
    {
     "name": "stdout",
     "output_type": "stream",
     "text": [
      "(50000,)\n"
     ]
    }
   ],
   "source": [
    "y = x_train_scaled[\"label\"]\n",
    "y_tests = x_test_scaled[\"label\"]\n",
    "print(y.shape)"
   ]
  },
  {
   "cell_type": "code",
   "execution_count": 6,
   "id": "339eccf5",
   "metadata": {},
   "outputs": [
    {
     "name": "stdout",
     "output_type": "stream",
     "text": [
      "(4, 50000)\n",
      "(1, 50000)\n",
      "(1, 10000)\n"
     ]
    }
   ],
   "source": [
    "X_train = x_train_scaled.values\n",
    "X_train = X_train.T\n",
    "print(X_train.shape)\n",
    "\n",
    "Y_train = np.array([y])\n",
    "Y_train = Y_train.reshape(1,50000)\n",
    "print(Y_train.shape)\n",
    "X_test = x_test_scaled.values\n",
    "X_test = X_test.T\n",
    "Y_test = np.array([y_tests])\n",
    "Y_test = Y_test.reshape(1,10000)\n",
    "print(Y_test.shape)"
   ]
  },
  {
   "cell_type": "code",
   "execution_count": 7,
   "id": "b96f40d3",
   "metadata": {},
   "outputs": [],
   "source": [
    "def tanh(x):\n",
    "    return np.tanh(x)\n",
    "\n",
    "def relu(x):\n",
    "    return np.maximum(x, 0)\n",
    "\n",
    "def softmax(x):\n",
    "    expX = np.exp(x)\n",
    "    return expX/np.sum(expX, axis = 0)"
   ]
  },
  {
   "cell_type": "code",
   "execution_count": 8,
   "id": "0f95c420",
   "metadata": {},
   "outputs": [],
   "source": [
    "def derivative_tanh(x):\n",
    "    return (1 - np.power(np.tanh(x), 2))\n",
    "\n",
    "def derivative_relu(x):\n",
    "    return np.array(x > 0, dtype = np.float32)"
   ]
  },
  {
   "cell_type": "code",
   "execution_count": 9,
   "id": "ce7616c7",
   "metadata": {},
   "outputs": [],
   "source": [
    "def initialize_parameters(n_x, n_h, n_y):\n",
    "    w1 = np.random.randn(n_h, n_x)\n",
    "    b1 = np.zeros((n_h, 1))\n",
    "    \n",
    "    w2 = np.random.randn(n_y, n_h)\n",
    "    b2 = np.zeros((n_y, 1))\n",
    "    \n",
    "    parameters = {\n",
    "        \"w1\" : w1,\n",
    "        \"b1\" : b1,\n",
    "        \"w2\" : w2,\n",
    "        \"b2\" : b2\n",
    "    }\n",
    "    \n",
    "    return parameters"
   ]
  },
  {
   "cell_type": "code",
   "execution_count": 10,
   "id": "65b78ec1",
   "metadata": {},
   "outputs": [],
   "source": [
    "def forward_propagation(x, parameters):\n",
    "    \n",
    "    w1 = parameters['w1']\n",
    "    b1 = parameters['b1']\n",
    "    w2 = parameters['w2']\n",
    "    b2 = parameters['b2']\n",
    "    \n",
    "    z1 = np.dot(w1, x) + b1\n",
    "    a1 = z1\n",
    "    \n",
    "    z2 = np.dot(w2, a1) + b2\n",
    "    a2 = z2\n",
    "    \n",
    "    forward_cache = {\n",
    "        \"z1\" : z1,\n",
    "        \"a1\" : a1,\n",
    "        \"z2\" : z2,\n",
    "        \"a2\" : a2\n",
    "    }\n",
    "    \n",
    "    return forward_cache"
   ]
  },
  {
   "cell_type": "code",
   "execution_count": 11,
   "id": "9f8ff65b",
   "metadata": {},
   "outputs": [],
   "source": [
    "def cost_function(a2, y):\n",
    "    m = y.shape[1]\n",
    "    \n",
    "    cost = (1/2*m)*np.sum(np.square(y-a2))\n",
    "    \n",
    "    #cost = -(1/m)*np.sum(np.sum(y*np.log(a2, 0), 1))\n",
    "    \n",
    "    return cost"
   ]
  },
  {
   "cell_type": "code",
   "execution_count": 12,
   "id": "b984b286",
   "metadata": {},
   "outputs": [],
   "source": [
    "def backward_prop(x, y, parameters, forward_cache):\n",
    "    \n",
    "    w1 = parameters['w1']\n",
    "    b1 = parameters['b1']\n",
    "    w2 = parameters['w2']\n",
    "    b2 = parameters['b2']\n",
    "    \n",
    "    a1 = forward_cache['a1']\n",
    "    a2 = forward_cache['a2']\n",
    "    \n",
    "    m = x.shape[1]\n",
    "    \n",
    "    dz2 = (a2 - y)\n",
    "    dw2 = (1/m)*np.dot(dz2, a1.T)\n",
    "    db2 = (1/m)*np.sum(dz2, axis = 1, keepdims = True)\n",
    "    \n",
    "    dz1 = (1/m)*np.dot(w2.T, dz2)*derivative_relu(a1)\n",
    "    dw1 = (1/m)*np.dot(dz1, x.T)\n",
    "    db1 = (1/m)*np.sum(dz1, axis = 1, keepdims = True)\n",
    "    \n",
    "    gradients = {\n",
    "        \"dw1\" : dw1,\n",
    "        \"db1\" : db1,\n",
    "        \"dw2\" : dw2,\n",
    "        \"db2\" : db2\n",
    "    }\n",
    "    \n",
    "    return gradients"
   ]
  },
  {
   "cell_type": "code",
   "execution_count": 13,
   "id": "f6f96b4c",
   "metadata": {},
   "outputs": [],
   "source": [
    "def update_parameters(parameters, gradients, learning_rate):\n",
    "    \n",
    "    w1 = parameters['w1']\n",
    "    b1 = parameters['b1']\n",
    "    w2 = parameters['w2']\n",
    "    b2 = parameters['b2']\n",
    "    \n",
    "    dw1 = gradients['dw1']\n",
    "    db1 = gradients['db1']\n",
    "    dw2 = gradients['dw2']\n",
    "    db2 = gradients['db2']\n",
    "    \n",
    "    w1 = w1 - learning_rate*dw1\n",
    "    b1 = b1 - learning_rate*db1\n",
    "    w2 = w2 - learning_rate*dw2\n",
    "    b2 = b2 - learning_rate*db2\n",
    "    \n",
    "    parameters = {\n",
    "        \"w1\" : w1,\n",
    "        \"b1\" : b1,\n",
    "        \"w2\" : w2,\n",
    "        \"b2\" : b2\n",
    "    }\n",
    "    \n",
    "    return parameters\n"
   ]
  },
  {
   "cell_type": "code",
   "execution_count": 14,
   "id": "b9581ed1",
   "metadata": {},
   "outputs": [],
   "source": [
    "def model(x, y, n_h, learning_rate, iterations):\n",
    "    \n",
    "    n_x = x.shape[0]\n",
    "    n_y = y.shape[0]\n",
    "    \n",
    "    cost_list = []\n",
    "    \n",
    "    parameters = initialize_parameters(n_x, n_h, n_y)\n",
    "    \n",
    "    for i in range(iterations):\n",
    "        \n",
    "        forward_cache = forward_propagation(x, parameters)\n",
    "        \n",
    "        cost = cost_function(forward_cache['a2'], y)\n",
    "        \n",
    "        gradients = backward_prop(x, y, parameters, forward_cache)\n",
    "        \n",
    "        parameters = update_parameters(parameters, gradients, learning_rate)\n",
    "        \n",
    "        cost_list.append(cost)\n",
    "        \n",
    "        if(i%(iterations/10) == 0):\n",
    "            print(\"Cost after\", i, \"iterations is :\", cost)\n",
    "        \n",
    "    return parameters, cost_list"
   ]
  },
  {
   "cell_type": "code",
   "execution_count": 15,
   "id": "a51f691a",
   "metadata": {},
   "outputs": [
    {
     "name": "stdout",
     "output_type": "stream",
     "text": [
      "Cost after 0 iterations is : 2563544064.100525\n",
      "Cost after 100 iterations is : 1171338871.4405346\n",
      "Cost after 200 iterations is : 1171335394.8289611\n",
      "Cost after 300 iterations is : 1171332986.8519666\n",
      "Cost after 400 iterations is : 1171330578.8043098\n",
      "Cost after 500 iterations is : 1171328170.6851702\n",
      "Cost after 600 iterations is : 1171325762.4945464\n",
      "Cost after 700 iterations is : 1171323354.232436\n",
      "Cost after 800 iterations is : 1171320945.8988376\n",
      "Cost after 900 iterations is : 1171318537.493749\n"
     ]
    }
   ],
   "source": [
    "iterations = 1000\n",
    "n_h = 1\n",
    "learning_rate = 0.03\n",
    "Parameters, Cost_list = model(X_train, Y_train, n_h = n_h, learning_rate = learning_rate, iterations = iterations)"
   ]
  },
  {
   "cell_type": "code",
   "execution_count": 16,
   "id": "96e785e8",
   "metadata": {},
   "outputs": [],
   "source": [
    "def predict(X_test, parameters):\n",
    "    forward_cache = forward_propagation(X_test, parameters)\n",
    "    return forward_cache[\"a2\"]"
   ]
  },
  {
   "cell_type": "code",
   "execution_count": 17,
   "id": "d0ce2708",
   "metadata": {},
   "outputs": [],
   "source": [
    "y_pred = predict(X_test, Parameters)"
   ]
  },
  {
   "cell_type": "code",
   "execution_count": 18,
   "id": "26ee43ea",
   "metadata": {},
   "outputs": [
    {
     "name": "stdout",
     "output_type": "stream",
     "text": [
      "Rmse error on test dataset =  0.9726776770084595\n"
     ]
    }
   ],
   "source": [
    "def accuracy(Y_test, y_pred):\n",
    "    return np.sqrt((np.square(Y_test - y_pred)).mean())\n",
    "print(\"Rmse error on test dataset = \", accuracy(Y_test, y_pred))"
   ]
  },
  {
   "cell_type": "code",
   "execution_count": null,
   "id": "d245e84a",
   "metadata": {},
   "outputs": [],
   "source": []
  }
 ],
 "metadata": {
  "kernelspec": {
   "display_name": "Python 3 (ipykernel)",
   "language": "python",
   "name": "python3"
  },
  "language_info": {
   "codemirror_mode": {
    "name": "ipython",
    "version": 3
   },
   "file_extension": ".py",
   "mimetype": "text/x-python",
   "name": "python",
   "nbconvert_exporter": "python",
   "pygments_lexer": "ipython3",
   "version": "3.9.7"
  }
 },
 "nbformat": 4,
 "nbformat_minor": 5
}
