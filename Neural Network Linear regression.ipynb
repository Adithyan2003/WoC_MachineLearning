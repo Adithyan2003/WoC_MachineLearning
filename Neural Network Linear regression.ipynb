{
 "cells": [
  {
   "cell_type": "code",
   "execution_count": 21,
   "id": "bb5c8bb6",
   "metadata": {},
   "outputs": [],
   "source": [
    "import matplotlib.pyplot as plt\n",
    "import numpy as np\n",
    "import pandas as pd"
   ]
  },
  {
   "cell_type": "code",
   "execution_count": 53,
   "id": "292a3434",
   "metadata": {
    "scrolled": true
   },
   "outputs": [
    {
     "data": {
      "text/html": [
       "<div>\n",
       "<style scoped>\n",
       "    .dataframe tbody tr th:only-of-type {\n",
       "        vertical-align: middle;\n",
       "    }\n",
       "\n",
       "    .dataframe tbody tr th {\n",
       "        vertical-align: top;\n",
       "    }\n",
       "\n",
       "    .dataframe thead th {\n",
       "        text-align: right;\n",
       "    }\n",
       "</style>\n",
       "<table border=\"1\" class=\"dataframe\">\n",
       "  <thead>\n",
       "    <tr style=\"text-align: right;\">\n",
       "      <th></th>\n",
       "      <th>Unnamed: 0</th>\n",
       "      <th>A</th>\n",
       "      <th>B</th>\n",
       "      <th>C</th>\n",
       "      <th>D</th>\n",
       "      <th>E</th>\n",
       "      <th>F</th>\n",
       "      <th>G</th>\n",
       "      <th>H</th>\n",
       "      <th>I</th>\n",
       "      <th>...</th>\n",
       "      <th>L</th>\n",
       "      <th>M</th>\n",
       "      <th>N</th>\n",
       "      <th>O</th>\n",
       "      <th>P</th>\n",
       "      <th>Q</th>\n",
       "      <th>R</th>\n",
       "      <th>S</th>\n",
       "      <th>T</th>\n",
       "      <th>label</th>\n",
       "    </tr>\n",
       "  </thead>\n",
       "  <tbody>\n",
       "    <tr>\n",
       "      <th>0</th>\n",
       "      <td>-1.731999</td>\n",
       "      <td>-0.347991</td>\n",
       "      <td>0.220312</td>\n",
       "      <td>0.285110</td>\n",
       "      <td>1.133715</td>\n",
       "      <td>0.678330</td>\n",
       "      <td>-0.610903</td>\n",
       "      <td>0.898280</td>\n",
       "      <td>1.199218</td>\n",
       "      <td>-0.424613</td>\n",
       "      <td>...</td>\n",
       "      <td>0.138291</td>\n",
       "      <td>1.028725</td>\n",
       "      <td>-0.863910</td>\n",
       "      <td>0.423651</td>\n",
       "      <td>-1.184218</td>\n",
       "      <td>1.284498</td>\n",
       "      <td>-0.155822</td>\n",
       "      <td>1.005271</td>\n",
       "      <td>1.008755</td>\n",
       "      <td>-0.248061</td>\n",
       "    </tr>\n",
       "    <tr>\n",
       "      <th>1</th>\n",
       "      <td>-1.731930</td>\n",
       "      <td>-0.611140</td>\n",
       "      <td>0.199847</td>\n",
       "      <td>0.427126</td>\n",
       "      <td>-1.254843</td>\n",
       "      <td>0.220549</td>\n",
       "      <td>-0.617274</td>\n",
       "      <td>0.443115</td>\n",
       "      <td>-1.502330</td>\n",
       "      <td>1.151147</td>\n",
       "      <td>...</td>\n",
       "      <td>1.707571</td>\n",
       "      <td>-0.056831</td>\n",
       "      <td>0.558906</td>\n",
       "      <td>1.497778</td>\n",
       "      <td>-0.253123</td>\n",
       "      <td>1.572980</td>\n",
       "      <td>1.294387</td>\n",
       "      <td>0.446828</td>\n",
       "      <td>-1.123392</td>\n",
       "      <td>0.982331</td>\n",
       "    </tr>\n",
       "    <tr>\n",
       "      <th>2</th>\n",
       "      <td>-1.731860</td>\n",
       "      <td>-0.982550</td>\n",
       "      <td>-0.677569</td>\n",
       "      <td>-1.233452</td>\n",
       "      <td>-0.307475</td>\n",
       "      <td>-1.573969</td>\n",
       "      <td>0.070213</td>\n",
       "      <td>-0.010727</td>\n",
       "      <td>0.623922</td>\n",
       "      <td>-1.172975</td>\n",
       "      <td>...</td>\n",
       "      <td>-0.930919</td>\n",
       "      <td>-0.252847</td>\n",
       "      <td>0.969013</td>\n",
       "      <td>0.928881</td>\n",
       "      <td>0.668976</td>\n",
       "      <td>-1.243750</td>\n",
       "      <td>-0.206644</td>\n",
       "      <td>0.520149</td>\n",
       "      <td>-1.184463</td>\n",
       "      <td>0.215179</td>\n",
       "    </tr>\n",
       "    <tr>\n",
       "      <th>3</th>\n",
       "      <td>-1.731791</td>\n",
       "      <td>-1.403101</td>\n",
       "      <td>0.385949</td>\n",
       "      <td>-1.001564</td>\n",
       "      <td>0.080227</td>\n",
       "      <td>-1.201313</td>\n",
       "      <td>1.310732</td>\n",
       "      <td>0.820607</td>\n",
       "      <td>-1.678859</td>\n",
       "      <td>-0.554849</td>\n",
       "      <td>...</td>\n",
       "      <td>-0.242377</td>\n",
       "      <td>-0.441135</td>\n",
       "      <td>1.663925</td>\n",
       "      <td>1.291192</td>\n",
       "      <td>1.064841</td>\n",
       "      <td>0.763239</td>\n",
       "      <td>0.565756</td>\n",
       "      <td>1.432712</td>\n",
       "      <td>1.162713</td>\n",
       "      <td>2.434678</td>\n",
       "    </tr>\n",
       "    <tr>\n",
       "      <th>4</th>\n",
       "      <td>-1.731722</td>\n",
       "      <td>-1.266513</td>\n",
       "      <td>1.216147</td>\n",
       "      <td>-1.131821</td>\n",
       "      <td>-0.043858</td>\n",
       "      <td>-0.483668</td>\n",
       "      <td>0.241872</td>\n",
       "      <td>1.520124</td>\n",
       "      <td>1.150941</td>\n",
       "      <td>-1.390864</td>\n",
       "      <td>...</td>\n",
       "      <td>-0.839817</td>\n",
       "      <td>0.369288</td>\n",
       "      <td>-1.631806</td>\n",
       "      <td>-0.274098</td>\n",
       "      <td>-0.277774</td>\n",
       "      <td>1.352054</td>\n",
       "      <td>-1.712420</td>\n",
       "      <td>-1.124743</td>\n",
       "      <td>-1.253185</td>\n",
       "      <td>-1.416104</td>\n",
       "    </tr>\n",
       "  </tbody>\n",
       "</table>\n",
       "<p>5 rows × 22 columns</p>\n",
       "</div>"
      ],
      "text/plain": [
       "   Unnamed: 0         A         B         C         D         E         F  \\\n",
       "0   -1.731999 -0.347991  0.220312  0.285110  1.133715  0.678330 -0.610903   \n",
       "1   -1.731930 -0.611140  0.199847  0.427126 -1.254843  0.220549 -0.617274   \n",
       "2   -1.731860 -0.982550 -0.677569 -1.233452 -0.307475 -1.573969  0.070213   \n",
       "3   -1.731791 -1.403101  0.385949 -1.001564  0.080227 -1.201313  1.310732   \n",
       "4   -1.731722 -1.266513  1.216147 -1.131821 -0.043858 -0.483668  0.241872   \n",
       "\n",
       "          G         H         I  ...         L         M         N         O  \\\n",
       "0  0.898280  1.199218 -0.424613  ...  0.138291  1.028725 -0.863910  0.423651   \n",
       "1  0.443115 -1.502330  1.151147  ...  1.707571 -0.056831  0.558906  1.497778   \n",
       "2 -0.010727  0.623922 -1.172975  ... -0.930919 -0.252847  0.969013  0.928881   \n",
       "3  0.820607 -1.678859 -0.554849  ... -0.242377 -0.441135  1.663925  1.291192   \n",
       "4  1.520124  1.150941 -1.390864  ... -0.839817  0.369288 -1.631806 -0.274098   \n",
       "\n",
       "          P         Q         R         S         T     label  \n",
       "0 -1.184218  1.284498 -0.155822  1.005271  1.008755 -0.248061  \n",
       "1 -0.253123  1.572980  1.294387  0.446828 -1.123392  0.982331  \n",
       "2  0.668976 -1.243750 -0.206644  0.520149 -1.184463  0.215179  \n",
       "3  1.064841  0.763239  0.565756  1.432712  1.162713  2.434678  \n",
       "4 -0.277774  1.352054 -1.712420 -1.124743 -1.253185 -1.416104  \n",
       "\n",
       "[5 rows x 22 columns]"
      ]
     },
     "execution_count": 53,
     "metadata": {},
     "output_type": "execute_result"
    }
   ],
   "source": [
    "test = pd.read_csv(\"C:/Users/adith/Desktop/Datasets/Linear_test.csv\")\n",
    "train = pd.read_csv(\"C:/Users/adith/Desktop/Datasets/Linear_train.csv\")\n",
    "x_train_scaled = (train - train.mean()) / (train.std()) \n",
    "x_test_scaled = (test - test.mean()) / (test.std())\n",
    "x_train_scaled.head()"
   ]
  },
  {
   "cell_type": "code",
   "execution_count": 57,
   "id": "bd513472",
   "metadata": {},
   "outputs": [
    {
     "name": "stdout",
     "output_type": "stream",
     "text": [
      "(50000,)\n"
     ]
    }
   ],
   "source": [
    "y = x_train_scaled[\"label\"]\n",
    "y_tests = x_test_scaled[\"label\"]\n",
    "print(y.shape)\n",
    "x_train_scaled.drop(x_train_scaled.columns[[0, 21]], axis=1 , inplace=True)\n",
    "x_test_scaled.drop(x_test_scaled.columns[[0, 21]], axis=1 , inplace=True)"
   ]
  },
  {
   "cell_type": "code",
   "execution_count": 58,
   "id": "00ca9d40",
   "metadata": {},
   "outputs": [
    {
     "name": "stdout",
     "output_type": "stream",
     "text": [
      "(20, 50000)\n",
      "(1, 50000)\n",
      "(1, 10000)\n"
     ]
    }
   ],
   "source": [
    "X_train = x_train_scaled.values\n",
    "X_train = X_train.T\n",
    "print(X_train.shape)\n",
    "\n",
    "Y_train = np.array([y])\n",
    "Y_train = Y_train.reshape(1,50000)\n",
    "print(Y_train.shape)\n",
    "X_test = x_test_scaled.values\n",
    "X_test = X_test.T\n",
    "Y_test = np.array([y_tests])\n",
    "Y_test = Y_test.reshape(1,10000)\n",
    "print(Y_test.shape)"
   ]
  },
  {
   "cell_type": "code",
   "execution_count": 59,
   "id": "cc323147",
   "metadata": {},
   "outputs": [],
   "source": [
    "def tanh(x):\n",
    "    return np.tanh(x)\n",
    "\n",
    "def relu(x):\n",
    "    return np.maximum(x, 0)\n",
    "\n",
    "def softmax(x):\n",
    "    expX = np.exp(x)\n",
    "    return expX/np.sum(expX, axis = 0)"
   ]
  },
  {
   "cell_type": "code",
   "execution_count": 60,
   "id": "06a27813",
   "metadata": {},
   "outputs": [],
   "source": [
    "def derivative_tanh(x):\n",
    "    return (1 - np.power(np.tanh(x), 2))\n",
    "\n",
    "def derivative_relu(x):\n",
    "    return np.array(x > 0, dtype = np.float32)"
   ]
  },
  {
   "cell_type": "code",
   "execution_count": 61,
   "id": "319fe592",
   "metadata": {},
   "outputs": [],
   "source": [
    "def initialize_parameters(n_x, n_h, n_y):\n",
    "    w1 = np.random.randn(n_h, n_x)\n",
    "    b1 = np.zeros((n_h, 1))\n",
    "    \n",
    "    w2 = np.random.randn(n_y, n_h)\n",
    "    b2 = np.zeros((n_y, 1))\n",
    "    \n",
    "    parameters = {\n",
    "        \"w1\" : w1,\n",
    "        \"b1\" : b1,\n",
    "        \"w2\" : w2,\n",
    "        \"b2\" : b2\n",
    "    }\n",
    "    \n",
    "    return parameters"
   ]
  },
  {
   "cell_type": "code",
   "execution_count": 62,
   "id": "c9388b02",
   "metadata": {},
   "outputs": [],
   "source": [
    "def forward_propagation(x, parameters):\n",
    "    \n",
    "    w1 = parameters['w1']\n",
    "    b1 = parameters['b1']\n",
    "    w2 = parameters['w2']\n",
    "    b2 = parameters['b2']\n",
    "    \n",
    "    z1 = np.dot(w1, x) + b1\n",
    "    a1 = z1\n",
    "    \n",
    "    z2 = np.dot(w2, a1) + b2\n",
    "    a2 = z2\n",
    "    \n",
    "    forward_cache = {\n",
    "        \"z1\" : z1,\n",
    "        \"a1\" : a1,\n",
    "        \"z2\" : z2,\n",
    "        \"a2\" : a2\n",
    "    }\n",
    "    \n",
    "    return forward_cache"
   ]
  },
  {
   "cell_type": "code",
   "execution_count": 63,
   "id": "0940a8ee",
   "metadata": {},
   "outputs": [],
   "source": [
    "def cost_function(a2, y):\n",
    "    m = y.shape[1]\n",
    "    \n",
    "    cost = (1/2*m)*np.sum(np.square(y-a2))\n",
    "    \n",
    "    #cost = -(1/m)*np.sum(np.sum(y*np.log(a2, 0), 1))\n",
    "    \n",
    "    return cost"
   ]
  },
  {
   "cell_type": "code",
   "execution_count": 64,
   "id": "1c2198bf",
   "metadata": {},
   "outputs": [],
   "source": [
    "def backward_prop(x, y, parameters, forward_cache):\n",
    "    \n",
    "    w1 = parameters['w1']\n",
    "    b1 = parameters['b1']\n",
    "    w2 = parameters['w2']\n",
    "    b2 = parameters['b2']\n",
    "    \n",
    "    a1 = forward_cache['a1']\n",
    "    a2 = forward_cache['a2']\n",
    "    \n",
    "    m = x.shape[1]\n",
    "    \n",
    "    dz2 = (a2 - y)\n",
    "    dw2 = (1/m)*np.dot(dz2, a1.T)\n",
    "    db2 = (1/m)*np.sum(dz2, axis = 1, keepdims = True)\n",
    "    \n",
    "    dz1 = (1/m)*np.dot(w2.T, dz2)*derivative_relu(a1)\n",
    "    dw1 = (1/m)*np.dot(dz1, x.T)\n",
    "    db1 = (1/m)*np.sum(dz1, axis = 1, keepdims = True)\n",
    "    \n",
    "    gradients = {\n",
    "        \"dw1\" : dw1,\n",
    "        \"db1\" : db1,\n",
    "        \"dw2\" : dw2,\n",
    "        \"db2\" : db2\n",
    "    }\n",
    "    \n",
    "    return gradients"
   ]
  },
  {
   "cell_type": "code",
   "execution_count": 65,
   "id": "90b9227b",
   "metadata": {},
   "outputs": [],
   "source": [
    "def update_parameters(parameters, gradients, learning_rate):\n",
    "    \n",
    "    w1 = parameters['w1']\n",
    "    b1 = parameters['b1']\n",
    "    w2 = parameters['w2']\n",
    "    b2 = parameters['b2']\n",
    "    \n",
    "    dw1 = gradients['dw1']\n",
    "    db1 = gradients['db1']\n",
    "    dw2 = gradients['dw2']\n",
    "    db2 = gradients['db2']\n",
    "    \n",
    "    w1 = w1 - learning_rate*dw1\n",
    "    b1 = b1 - learning_rate*db1\n",
    "    w2 = w2 - learning_rate*dw2\n",
    "    b2 = b2 - learning_rate*db2\n",
    "    \n",
    "    parameters = {\n",
    "        \"w1\" : w1,\n",
    "        \"b1\" : b1,\n",
    "        \"w2\" : w2,\n",
    "        \"b2\" : b2\n",
    "    }\n",
    "    \n",
    "    return parameters\n"
   ]
  },
  {
   "cell_type": "code",
   "execution_count": 66,
   "id": "0b25c5e7",
   "metadata": {},
   "outputs": [],
   "source": [
    "def model(x, y, n_h, learning_rate, iterations):\n",
    "    \n",
    "    n_x = x.shape[0]\n",
    "    n_y = y.shape[0]\n",
    "    \n",
    "    cost_list = []\n",
    "    \n",
    "    parameters = initialize_parameters(n_x, n_h, n_y)\n",
    "    \n",
    "    for i in range(iterations):\n",
    "        \n",
    "        forward_cache = forward_propagation(x, parameters)\n",
    "        \n",
    "        cost = cost_function(forward_cache['a2'], y)\n",
    "        \n",
    "        gradients = backward_prop(x, y, parameters, forward_cache)\n",
    "        \n",
    "        parameters = update_parameters(parameters, gradients, learning_rate)\n",
    "        \n",
    "        cost_list.append(cost)\n",
    "        \n",
    "        if(i%(iterations/10) == 0):\n",
    "            print(\"Cost after\", i, \"iterations is :\", cost)\n",
    "        \n",
    "    return parameters, cost_list"
   ]
  },
  {
   "cell_type": "code",
   "execution_count": 67,
   "id": "276657a5",
   "metadata": {},
   "outputs": [
    {
     "name": "stdout",
     "output_type": "stream",
     "text": [
      "Cost after 0 iterations is : 9279272176.83368\n",
      "Cost after 100 iterations is : 1237902130.2107024\n",
      "Cost after 200 iterations is : 1237902100.6133277\n",
      "Cost after 300 iterations is : 1237902071.0158818\n",
      "Cost after 400 iterations is : 1237902041.4183636\n",
      "Cost after 500 iterations is : 1237902011.8207736\n",
      "Cost after 600 iterations is : 1237901982.223112\n",
      "Cost after 700 iterations is : 1237901952.6253786\n",
      "Cost after 800 iterations is : 1237901923.0275733\n",
      "Cost after 900 iterations is : 1237901893.429696\n"
     ]
    }
   ],
   "source": [
    "iterations = 1000\n",
    "n_h = 1\n",
    "learning_rate = 0.03\n",
    "Parameters, Cost_list = model(X_train, Y_train, n_h = n_h, learning_rate = learning_rate, iterations = iterations)"
   ]
  },
  {
   "cell_type": "code",
   "execution_count": 68,
   "id": "6bff531a",
   "metadata": {},
   "outputs": [],
   "source": [
    "def predict(X_test, parameters):\n",
    "    forward_cache = forward_propagation(X_test, parameters)\n",
    "    return forward_cache[\"a2\"]"
   ]
  },
  {
   "cell_type": "code",
   "execution_count": null,
   "id": "98b3e020",
   "metadata": {
    "scrolled": true
   },
   "outputs": [],
   "source": []
  },
  {
   "cell_type": "code",
   "execution_count": 69,
   "id": "534f8247",
   "metadata": {},
   "outputs": [],
   "source": [
    "y_pred = predict(X_test, Parameters)"
   ]
  },
  {
   "cell_type": "code",
   "execution_count": 70,
   "id": "cbc89148",
   "metadata": {},
   "outputs": [
    {
     "data": {
      "text/plain": [
       "(1, 10000)"
      ]
     },
     "execution_count": 70,
     "metadata": {},
     "output_type": "execute_result"
    }
   ],
   "source": [
    "y_pred.shape"
   ]
  },
  {
   "cell_type": "code",
   "execution_count": 71,
   "id": "2bf9a46f",
   "metadata": {},
   "outputs": [
    {
     "name": "stdout",
     "output_type": "stream",
     "text": [
      "Rmse error on test dataset =  0.99367818953251\n"
     ]
    }
   ],
   "source": [
    "def accuracy(Y_test, y_pred):\n",
    "    return np.sqrt((np.square(Y_test - y_pred)).mean())\n",
    "print(\"Rmse error on test dataset = \", accuracy(Y_test, y_pred))"
   ]
  },
  {
   "cell_type": "code",
   "execution_count": null,
   "id": "54ec3549",
   "metadata": {},
   "outputs": [],
   "source": []
  }
 ],
 "metadata": {
  "kernelspec": {
   "display_name": "Python 3 (ipykernel)",
   "language": "python",
   "name": "python3"
  },
  "language_info": {
   "codemirror_mode": {
    "name": "ipython",
    "version": 3
   },
   "file_extension": ".py",
   "mimetype": "text/x-python",
   "name": "python",
   "nbconvert_exporter": "python",
   "pygments_lexer": "ipython3",
   "version": "3.9.7"
  }
 },
 "nbformat": 4,
 "nbformat_minor": 5
}
